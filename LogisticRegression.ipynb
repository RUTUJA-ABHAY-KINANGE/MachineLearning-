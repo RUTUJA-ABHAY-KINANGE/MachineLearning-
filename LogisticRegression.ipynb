{
  "nbformat": 4,
  "nbformat_minor": 0,
  "metadata": {
    "colab": {
      "provenance": []
    },
    "kernelspec": {
      "name": "python3",
      "display_name": "Python 3"
    },
    "language_info": {
      "name": "python"
    }
  },
  "cells": [
    {
      "cell_type": "markdown",
      "source": [
        "**SCIKIT LEARN**\n",
        ">MACHINE LEARNING library provide a tool\n",
        "\n",
        "> *pip install scikit-learn*\n",
        "\n",
        "> import sklearn"
      ],
      "metadata": {
        "id": "aXqcT8vMjE-0"
      }
    },
    {
      "cell_type": "code",
      "source": [
        "import pandas as pd\n",
        "import matplotlib\n",
        "from sklearn.model_selection import train_test_split\n",
        "from sklearn.linear_model import LogisticRegression\n",
        "from sklearn.metrics import accuracy_score,confusion_matrix,classification_report\n",
        "\n",
        "data=pd.read_csv(\"insurance_data.csv\")\n",
        "print(data.head())\n",
        "x_train,x_test,y_train,y_test=train_test_split(data[['age']],data.bought_insurance,train_size=0.8)\n",
        "model=LogisticRegression()\n",
        "model.fit(x_train,y_train)\n",
        "\n",
        "result=model.predict(x_test)\n",
        "print(result)\n",
        "print(accuracy_score(y_test,result))\n",
        "print(confusion_matrix(y_test,result))\n",
        "print(classification_report(y_test,result))"
      ],
      "metadata": {
        "colab": {
          "base_uri": "https://localhost:8080/"
        },
        "id": "01DnCCMXkOX3",
        "outputId": "76d7f85c-bba3-4293-b569-90fddc5a5d1d"
      },
      "execution_count": 2,
      "outputs": [
        {
          "output_type": "stream",
          "name": "stdout",
          "text": [
            "   age  bought_insurance\n",
            "0   22                 0\n",
            "1   25                 0\n",
            "2   47                 1\n",
            "3   52                 0\n",
            "4   46                 1\n",
            "[1 1 1 0 0 0]\n",
            "1.0\n",
            "[[3 0]\n",
            " [0 3]]\n",
            "              precision    recall  f1-score   support\n",
            "\n",
            "           0       1.00      1.00      1.00         3\n",
            "           1       1.00      1.00      1.00         3\n",
            "\n",
            "    accuracy                           1.00         6\n",
            "   macro avg       1.00      1.00      1.00         6\n",
            "weighted avg       1.00      1.00      1.00         6\n",
            "\n"
          ]
        }
      ]
    }
  ]
}